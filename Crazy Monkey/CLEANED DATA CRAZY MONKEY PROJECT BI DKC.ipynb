{
 "cells": [
  {
   "cell_type": "markdown",
   "id": "53e8320a",
   "metadata": {},
   "source": [
    "##### IMPORTING LIBRARIES AND SETTING DISPLAY ROWS AT MAXIMUM"
   ]
  },
  {
   "cell_type": "code",
   "execution_count": 1,
   "id": "bcee54e5",
   "metadata": {},
   "outputs": [],
   "source": [
    "import pandas as pd\n",
    "import numpy as np\n",
    "import matplotlib.pyplot as plt\n",
    "import seaborn as sns\n",
    "import warnings\n",
    "warnings.filterwarnings(\"ignore\")\n",
    "pd.set_option('display.max_rows', None)\n",
    "pd.set_option('display.max_columns', None)"
   ]
  },
  {
   "cell_type": "markdown",
   "id": "13d397ae",
   "metadata": {},
   "source": [
    "##### LOADING DATASET"
   ]
  },
  {
   "cell_type": "code",
   "execution_count": 2,
   "id": "6d731ab0",
   "metadata": {},
   "outputs": [],
   "source": [
    "df=pd.read_csv('D:\\data science analytics project\\Crazy Monkey\\crazy_monkey.csv')"
   ]
  },
  {
   "cell_type": "markdown",
   "id": "2fbb9a01",
   "metadata": {},
   "source": [
    "##### TAKING LOOK AT THE DATA"
   ]
  },
  {
   "cell_type": "code",
   "execution_count": 3,
   "id": "6d09a931",
   "metadata": {},
   "outputs": [
    {
     "data": {
      "text/html": [
       "<div>\n",
       "<style scoped>\n",
       "    .dataframe tbody tr th:only-of-type {\n",
       "        vertical-align: middle;\n",
       "    }\n",
       "\n",
       "    .dataframe tbody tr th {\n",
       "        vertical-align: top;\n",
       "    }\n",
       "\n",
       "    .dataframe thead th {\n",
       "        text-align: right;\n",
       "    }\n",
       "</style>\n",
       "<table border=\"1\" class=\"dataframe\">\n",
       "  <thead>\n",
       "    <tr style=\"text-align: right;\">\n",
       "      <th></th>\n",
       "      <th>dummy</th>\n",
       "      <th>order_id</th>\n",
       "      <th>parent_id</th>\n",
       "      <th>user_id</th>\n",
       "      <th>price</th>\n",
       "      <th>quantity</th>\n",
       "      <th>product_id</th>\n",
       "      <th>size_id</th>\n",
       "      <th>category_id</th>\n",
       "      <th>cat_type</th>\n",
       "      <th>subtype</th>\n",
       "      <th>gender</th>\n",
       "      <th>subclass</th>\n",
       "      <th>neck</th>\n",
       "      <th>sleeve</th>\n",
       "      <th>material</th>\n",
       "      <th>product_type</th>\n",
       "      <th>prod_name</th>\n",
       "      <th>created_at</th>\n",
       "      <th>city</th>\n",
       "      <th>state</th>\n",
       "    </tr>\n",
       "  </thead>\n",
       "  <tbody>\n",
       "    <tr>\n",
       "      <th>0</th>\n",
       "      <td>27288</td>\n",
       "      <td>3550739</td>\n",
       "      <td>0</td>\n",
       "      <td>44879</td>\n",
       "      <td>1000</td>\n",
       "      <td>1</td>\n",
       "      <td>34584</td>\n",
       "      <td>19</td>\n",
       "      <td>382</td>\n",
       "      <td>Accessories</td>\n",
       "      <td>Mobile Covers</td>\n",
       "      <td>Unisex</td>\n",
       "      <td>Mobile Covers</td>\n",
       "      <td>-1</td>\n",
       "      <td>-1</td>\n",
       "      <td>Polycarbonate Hard Plastic</td>\n",
       "      <td>Mobile Covers</td>\n",
       "      <td>OnePlus One Mobile Covers</td>\n",
       "      <td>01-01-2016 00:07</td>\n",
       "      <td>Mumbai</td>\n",
       "      <td>Maharashtra</td>\n",
       "    </tr>\n",
       "    <tr>\n",
       "      <th>1</th>\n",
       "      <td>38337</td>\n",
       "      <td>3550743</td>\n",
       "      <td>0</td>\n",
       "      <td>1627343</td>\n",
       "      <td>1000</td>\n",
       "      <td>1</td>\n",
       "      <td>61354</td>\n",
       "      <td>3</td>\n",
       "      <td>622</td>\n",
       "      <td>Apparel</td>\n",
       "      <td>Topwear</td>\n",
       "      <td>Men</td>\n",
       "      <td>T-Shirts</td>\n",
       "      <td>Round Neck</td>\n",
       "      <td>Full</td>\n",
       "      <td>100% Cotton</td>\n",
       "      <td>T-Shirts</td>\n",
       "      <td>Men's Plain Henley Fullsleeve T-Shirts</td>\n",
       "      <td>01-01-2016 00:11</td>\n",
       "      <td>Mumbai</td>\n",
       "      <td>Maharashtra</td>\n",
       "    </tr>\n",
       "    <tr>\n",
       "      <th>2</th>\n",
       "      <td>29144</td>\n",
       "      <td>3550745</td>\n",
       "      <td>0</td>\n",
       "      <td>1221355</td>\n",
       "      <td>1000</td>\n",
       "      <td>1</td>\n",
       "      <td>26898</td>\n",
       "      <td>4</td>\n",
       "      <td>456</td>\n",
       "      <td>Apparel</td>\n",
       "      <td>Bottomwear</td>\n",
       "      <td>Men</td>\n",
       "      <td>Pyjamas</td>\n",
       "      <td>-1</td>\n",
       "      <td>-1</td>\n",
       "      <td>100% Cotton</td>\n",
       "      <td>Pyjamas</td>\n",
       "      <td>Men's Plain Pyjamas</td>\n",
       "      <td>01-01-2016 00:12</td>\n",
       "      <td>Ghaziabad</td>\n",
       "      <td>Uttar Pradesh</td>\n",
       "    </tr>\n",
       "    <tr>\n",
       "      <th>3</th>\n",
       "      <td>16576</td>\n",
       "      <td>3550747</td>\n",
       "      <td>3550745</td>\n",
       "      <td>1221355</td>\n",
       "      <td>1000</td>\n",
       "      <td>1</td>\n",
       "      <td>41284</td>\n",
       "      <td>2</td>\n",
       "      <td>200</td>\n",
       "      <td>Apparel</td>\n",
       "      <td>Topwear</td>\n",
       "      <td>Men</td>\n",
       "      <td>T-Shirts</td>\n",
       "      <td>Round Neck</td>\n",
       "      <td>Full</td>\n",
       "      <td>100% Cotton</td>\n",
       "      <td>T-Shirts</td>\n",
       "      <td>Men's Plain Full Sleeve T-Shirts</td>\n",
       "      <td>01-01-2016 00:13</td>\n",
       "      <td>Ghaziabad</td>\n",
       "      <td>Uttar Pradesh</td>\n",
       "    </tr>\n",
       "    <tr>\n",
       "      <th>4</th>\n",
       "      <td>34189</td>\n",
       "      <td>3550749</td>\n",
       "      <td>3550745</td>\n",
       "      <td>1221355</td>\n",
       "      <td>1000</td>\n",
       "      <td>1</td>\n",
       "      <td>53238</td>\n",
       "      <td>2</td>\n",
       "      <td>570</td>\n",
       "      <td>Apparel</td>\n",
       "      <td>Topwear</td>\n",
       "      <td>Men</td>\n",
       "      <td>T-Shirts</td>\n",
       "      <td>Round Neck</td>\n",
       "      <td>Full</td>\n",
       "      <td>100% Cotton</td>\n",
       "      <td>T-Shirts</td>\n",
       "      <td>Men's Plain Sports Trim Fullsleeve T-Shirt</td>\n",
       "      <td>01-01-2016 00:13</td>\n",
       "      <td>Ghaziabad</td>\n",
       "      <td>Uttar Pradesh</td>\n",
       "    </tr>\n",
       "  </tbody>\n",
       "</table>\n",
       "</div>"
      ],
      "text/plain": [
       "   dummy  order_id  parent_id  user_id  price  quantity  product_id  size_id  \\\n",
       "0  27288   3550739          0    44879   1000         1       34584       19   \n",
       "1  38337   3550743          0  1627343   1000         1       61354        3   \n",
       "2  29144   3550745          0  1221355   1000         1       26898        4   \n",
       "3  16576   3550747    3550745  1221355   1000         1       41284        2   \n",
       "4  34189   3550749    3550745  1221355   1000         1       53238        2   \n",
       "\n",
       "   category_id     cat_type        subtype  gender       subclass        neck  \\\n",
       "0          382  Accessories  Mobile Covers  Unisex  Mobile Covers          -1   \n",
       "1          622      Apparel        Topwear     Men       T-Shirts  Round Neck   \n",
       "2          456      Apparel     Bottomwear     Men        Pyjamas          -1   \n",
       "3          200      Apparel        Topwear     Men       T-Shirts  Round Neck   \n",
       "4          570      Apparel        Topwear     Men       T-Shirts  Round Neck   \n",
       "\n",
       "  sleeve                    material   product_type  \\\n",
       "0     -1  Polycarbonate Hard Plastic  Mobile Covers   \n",
       "1   Full                 100% Cotton       T-Shirts   \n",
       "2     -1                 100% Cotton        Pyjamas   \n",
       "3   Full                 100% Cotton       T-Shirts   \n",
       "4   Full                 100% Cotton       T-Shirts   \n",
       "\n",
       "                                    prod_name        created_at       city  \\\n",
       "0                   OnePlus One Mobile Covers  01-01-2016 00:07     Mumbai   \n",
       "1      Men's Plain Henley Fullsleeve T-Shirts  01-01-2016 00:11     Mumbai   \n",
       "2                         Men's Plain Pyjamas  01-01-2016 00:12  Ghaziabad   \n",
       "3            Men's Plain Full Sleeve T-Shirts  01-01-2016 00:13  Ghaziabad   \n",
       "4  Men's Plain Sports Trim Fullsleeve T-Shirt  01-01-2016 00:13  Ghaziabad   \n",
       "\n",
       "           state  \n",
       "0    Maharashtra  \n",
       "1    Maharashtra  \n",
       "2  Uttar Pradesh  \n",
       "3  Uttar Pradesh  \n",
       "4  Uttar Pradesh  "
      ]
     },
     "execution_count": 3,
     "metadata": {},
     "output_type": "execute_result"
    }
   ],
   "source": [
    "df.head()"
   ]
  },
  {
   "cell_type": "code",
   "execution_count": 4,
   "id": "da335145",
   "metadata": {},
   "outputs": [
    {
     "data": {
      "text/plain": [
       "(41726, 21)"
      ]
     },
     "execution_count": 4,
     "metadata": {},
     "output_type": "execute_result"
    }
   ],
   "source": [
    "df.shape"
   ]
  },
  {
   "cell_type": "markdown",
   "id": "b28ef50b",
   "metadata": {},
   "source": [
    "We have 21 columns and 41726 rows"
   ]
  },
  {
   "cell_type": "code",
   "execution_count": 5,
   "id": "f56f6973",
   "metadata": {},
   "outputs": [
    {
     "data": {
      "text/plain": [
       "Index(['dummy', 'order_id', 'parent_id', 'user_id', 'price', 'quantity',\n",
       "       'product_id', 'size_id', 'category_id', 'cat_type', 'subtype', 'gender',\n",
       "       'subclass', 'neck', 'sleeve', 'material', 'product_type', 'prod_name',\n",
       "       'created_at', 'city', 'state'],\n",
       "      dtype='object')"
      ]
     },
     "execution_count": 5,
     "metadata": {},
     "output_type": "execute_result"
    }
   ],
   "source": [
    "df.columns"
   ]
  },
  {
   "cell_type": "markdown",
   "id": "79fc301d",
   "metadata": {},
   "source": [
    "### Checking each column"
   ]
  },
  {
   "cell_type": "markdown",
   "id": "bd58f7f1",
   "metadata": {},
   "source": [
    "##### Checking for null values"
   ]
  },
  {
   "cell_type": "code",
   "execution_count": 6,
   "id": "1dbce0af",
   "metadata": {},
   "outputs": [
    {
     "data": {
      "text/plain": [
       "dummy              0\n",
       "order_id           0\n",
       "parent_id          0\n",
       "user_id            0\n",
       "price              0\n",
       "quantity           0\n",
       "product_id         0\n",
       "size_id            0\n",
       "category_id        0\n",
       "cat_type        1552\n",
       "subtype         1552\n",
       "gender          1552\n",
       "subclass        1552\n",
       "neck            1552\n",
       "sleeve          1552\n",
       "material        1552\n",
       "product_type    1552\n",
       "prod_name          0\n",
       "created_at         0\n",
       "city               0\n",
       "state             25\n",
       "dtype: int64"
      ]
     },
     "execution_count": 6,
     "metadata": {},
     "output_type": "execute_result"
    }
   ],
   "source": [
    "df.isnull().sum()"
   ]
  },
  {
   "cell_type": "markdown",
   "id": "7ce6c48c",
   "metadata": {},
   "source": [
    "##### count of unique values in columns"
   ]
  },
  {
   "cell_type": "markdown",
   "id": "9933d1a9",
   "metadata": {},
   "source": [
    "Dummy"
   ]
  },
  {
   "cell_type": "code",
   "execution_count": 7,
   "id": "270a5956",
   "metadata": {},
   "outputs": [
    {
     "data": {
      "text/plain": [
       "41726"
      ]
     },
     "execution_count": 7,
     "metadata": {},
     "output_type": "execute_result"
    }
   ],
   "source": [
    "df.dummy.nunique()"
   ]
  },
  {
   "cell_type": "markdown",
   "id": "e0917355",
   "metadata": {},
   "source": [
    "All values are unique."
   ]
  },
  {
   "cell_type": "markdown",
   "id": "8ed7cf74",
   "metadata": {},
   "source": [
    "Order id"
   ]
  },
  {
   "cell_type": "code",
   "execution_count": 8,
   "id": "3edf9919",
   "metadata": {},
   "outputs": [
    {
     "data": {
      "text/plain": [
       "41726"
      ]
     },
     "execution_count": 8,
     "metadata": {},
     "output_type": "execute_result"
    }
   ],
   "source": [
    "df.order_id.nunique()"
   ]
  },
  {
   "cell_type": "markdown",
   "id": "29d2f100",
   "metadata": {},
   "source": [
    "All values are unique"
   ]
  },
  {
   "cell_type": "markdown",
   "id": "a8254b1e",
   "metadata": {},
   "source": [
    "Parent_id "
   ]
  },
  {
   "cell_type": "code",
   "execution_count": 9,
   "id": "89c77bbe",
   "metadata": {},
   "outputs": [
    {
     "data": {
      "text/plain": [
       "9608"
      ]
     },
     "execution_count": 9,
     "metadata": {},
     "output_type": "execute_result"
    }
   ],
   "source": [
    "df.parent_id.nunique()"
   ]
  },
  {
   "cell_type": "markdown",
   "id": "e9b4b1d9",
   "metadata": {},
   "source": [
    "user_id "
   ]
  },
  {
   "cell_type": "code",
   "execution_count": 10,
   "id": "41f65e64",
   "metadata": {},
   "outputs": [
    {
     "data": {
      "text/plain": [
       "22083"
      ]
     },
     "execution_count": 10,
     "metadata": {},
     "output_type": "execute_result"
    }
   ],
   "source": [
    "df.user_id.nunique()"
   ]
  },
  {
   "cell_type": "markdown",
   "id": "3c278ba3",
   "metadata": {},
   "source": [
    "We have 22083 customers."
   ]
  },
  {
   "cell_type": "markdown",
   "id": "9df4bd2b",
   "metadata": {},
   "source": [
    "Price "
   ]
  },
  {
   "cell_type": "code",
   "execution_count": 11,
   "id": "a48459fc",
   "metadata": {},
   "outputs": [
    {
     "data": {
      "text/plain": [
       "1"
      ]
     },
     "execution_count": 11,
     "metadata": {},
     "output_type": "execute_result"
    }
   ],
   "source": [
    "df.price.nunique()"
   ]
  },
  {
   "cell_type": "code",
   "execution_count": 12,
   "id": "57b863a6",
   "metadata": {},
   "outputs": [
    {
     "data": {
      "text/plain": [
       "1000    41726\n",
       "Name: price, dtype: int64"
      ]
     },
     "execution_count": 12,
     "metadata": {},
     "output_type": "execute_result"
    }
   ],
   "source": [
    "df.price.value_counts()"
   ]
  },
  {
   "cell_type": "markdown",
   "id": "069e7b2f",
   "metadata": {},
   "source": [
    "Each order has same price."
   ]
  },
  {
   "cell_type": "markdown",
   "id": "6ce9ef85",
   "metadata": {},
   "source": [
    "Quantity"
   ]
  },
  {
   "cell_type": "code",
   "execution_count": 13,
   "id": "05df3e66",
   "metadata": {},
   "outputs": [
    {
     "data": {
      "text/plain": [
       "1"
      ]
     },
     "execution_count": 13,
     "metadata": {},
     "output_type": "execute_result"
    }
   ],
   "source": [
    "df.quantity.nunique()"
   ]
  },
  {
   "cell_type": "code",
   "execution_count": 14,
   "id": "d171f92e",
   "metadata": {},
   "outputs": [
    {
     "data": {
      "text/plain": [
       "1    41726\n",
       "Name: quantity, dtype: int64"
      ]
     },
     "execution_count": 14,
     "metadata": {},
     "output_type": "execute_result"
    }
   ],
   "source": [
    "df.quantity.value_counts()"
   ]
  },
  {
   "cell_type": "markdown",
   "id": "489a1d40",
   "metadata": {},
   "source": [
    "No customer ordered more than 1 quantity."
   ]
  },
  {
   "cell_type": "markdown",
   "id": "c93b5e9d",
   "metadata": {},
   "source": [
    "product name"
   ]
  },
  {
   "cell_type": "code",
   "execution_count": 15,
   "id": "360b3ce2",
   "metadata": {},
   "outputs": [
    {
     "data": {
      "text/plain": [
       "171"
      ]
     },
     "execution_count": 15,
     "metadata": {},
     "output_type": "execute_result"
    }
   ],
   "source": [
    "df.prod_name.nunique()"
   ]
  },
  {
   "cell_type": "markdown",
   "id": "1fbcc186",
   "metadata": {},
   "source": [
    "171 unique products are there."
   ]
  },
  {
   "cell_type": "markdown",
   "id": "b2ed482a",
   "metadata": {},
   "source": [
    "Category type"
   ]
  },
  {
   "cell_type": "code",
   "execution_count": 16,
   "id": "4309e7db",
   "metadata": {},
   "outputs": [
    {
     "data": {
      "text/plain": [
       "2"
      ]
     },
     "execution_count": 16,
     "metadata": {},
     "output_type": "execute_result"
    }
   ],
   "source": [
    "df.cat_type.nunique()"
   ]
  },
  {
   "cell_type": "code",
   "execution_count": 17,
   "id": "27a99de7",
   "metadata": {},
   "outputs": [
    {
     "data": {
      "text/plain": [
       "Apparel        33554\n",
       "Accessories     6620\n",
       "Name: cat_type, dtype: int64"
      ]
     },
     "execution_count": 17,
     "metadata": {},
     "output_type": "execute_result"
    }
   ],
   "source": [
    "df.cat_type.value_counts()"
   ]
  },
  {
   "cell_type": "markdown",
   "id": "7d25eccb",
   "metadata": {},
   "source": [
    "Here we have two categories Apparel and Accessories."
   ]
  },
  {
   "cell_type": "markdown",
   "id": "142886ad",
   "metadata": {},
   "source": [
    "Subtype(Subcategory)"
   ]
  },
  {
   "cell_type": "code",
   "execution_count": 18,
   "id": "9acb577e",
   "metadata": {},
   "outputs": [
    {
     "data": {
      "text/plain": [
       "4"
      ]
     },
     "execution_count": 18,
     "metadata": {},
     "output_type": "execute_result"
    }
   ],
   "source": [
    "df.subtype.nunique()"
   ]
  },
  {
   "cell_type": "code",
   "execution_count": 19,
   "id": "3850aa96",
   "metadata": {},
   "outputs": [
    {
     "data": {
      "text/plain": [
       "Topwear          23498\n",
       "Bottomwear       10056\n",
       "Mobile Covers     6605\n",
       "Gift Cards          15\n",
       "Name: subtype, dtype: int64"
      ]
     },
     "execution_count": 19,
     "metadata": {},
     "output_type": "execute_result"
    }
   ],
   "source": [
    "df.subtype.value_counts()"
   ]
  },
  {
   "cell_type": "markdown",
   "id": "015aa2a0",
   "metadata": {},
   "source": [
    "Here we have four subcategories."
   ]
  },
  {
   "cell_type": "markdown",
   "id": "04a14ab5",
   "metadata": {},
   "source": [
    "Gender"
   ]
  },
  {
   "cell_type": "code",
   "execution_count": 20,
   "id": "ab207480",
   "metadata": {},
   "outputs": [
    {
     "data": {
      "text/plain": [
       "3"
      ]
     },
     "execution_count": 20,
     "metadata": {},
     "output_type": "execute_result"
    }
   ],
   "source": [
    "df.gender.nunique()"
   ]
  },
  {
   "cell_type": "code",
   "execution_count": 21,
   "id": "7c247cf9",
   "metadata": {},
   "outputs": [
    {
     "data": {
      "text/plain": [
       "Men       24072\n",
       "Women      9482\n",
       "Unisex     6620\n",
       "Name: gender, dtype: int64"
      ]
     },
     "execution_count": 21,
     "metadata": {},
     "output_type": "execute_result"
    }
   ],
   "source": [
    "df.gender.value_counts()"
   ]
  },
  {
   "cell_type": "code",
   "execution_count": 22,
   "id": "f6c0d5e1",
   "metadata": {},
   "outputs": [
    {
     "data": {
      "text/plain": [
       "14"
      ]
     },
     "execution_count": 22,
     "metadata": {},
     "output_type": "execute_result"
    }
   ],
   "source": [
    "df.subclass.nunique()"
   ]
  },
  {
   "cell_type": "code",
   "execution_count": 23,
   "id": "3536fec1",
   "metadata": {},
   "outputs": [
    {
     "data": {
      "text/plain": [
       "T-Shirts         18390\n",
       "Mobile Covers     6605\n",
       "Pyjamas           4065\n",
       "Boxers            2805\n",
       "Joggers           2569\n",
       "Vests             2059\n",
       "Sweatshirts       1576\n",
       "Shorts             617\n",
       "Zipper             487\n",
       "Shirts             350\n",
       "Crop               318\n",
       "Tank Tops          309\n",
       "Gift Cards          15\n",
       "Bomber               9\n",
       "Name: subclass, dtype: int64"
      ]
     },
     "execution_count": 23,
     "metadata": {},
     "output_type": "execute_result"
    }
   ],
   "source": [
    "df.subclass.value_counts()"
   ]
  },
  {
   "cell_type": "code",
   "execution_count": 24,
   "id": "6397f5eb",
   "metadata": {},
   "outputs": [
    {
     "data": {
      "text/plain": [
       "14"
      ]
     },
     "execution_count": 24,
     "metadata": {},
     "output_type": "execute_result"
    }
   ],
   "source": [
    "df.product_type.nunique()"
   ]
  },
  {
   "cell_type": "code",
   "execution_count": 25,
   "id": "9448cf2b",
   "metadata": {},
   "outputs": [
    {
     "data": {
      "text/plain": [
       "T-Shirts         18390\n",
       "Mobile Covers     6605\n",
       "Pyjamas           4065\n",
       "Boxers            2805\n",
       "Joggers           2569\n",
       "Vests             2059\n",
       "Sweatshirts       1576\n",
       "Shorts             617\n",
       "Zipper             487\n",
       "Shirts             350\n",
       "Crop               318\n",
       "Tank Tops          309\n",
       "Gift Cards          15\n",
       "Bomber               9\n",
       "Name: product_type, dtype: int64"
      ]
     },
     "execution_count": 25,
     "metadata": {},
     "output_type": "execute_result"
    }
   ],
   "source": [
    "df.product_type.value_counts()"
   ]
  },
  {
   "cell_type": "markdown",
   "id": "bfa652b0",
   "metadata": {},
   "source": [
    "Product type and subclass values are same, dropping product type column."
   ]
  },
  {
   "cell_type": "code",
   "execution_count": 26,
   "id": "1eff8892",
   "metadata": {},
   "outputs": [],
   "source": [
    "df=df.drop('product_type',axis=1)"
   ]
  },
  {
   "cell_type": "markdown",
   "id": "8182fbb5",
   "metadata": {},
   "source": [
    "##### City column cleaning"
   ]
  },
  {
   "cell_type": "code",
   "execution_count": 27,
   "id": "e6d6f01a",
   "metadata": {},
   "outputs": [
    {
     "data": {
      "text/plain": [
       "993"
      ]
     },
     "execution_count": 27,
     "metadata": {},
     "output_type": "execute_result"
    }
   ],
   "source": [
    "df.city.nunique()"
   ]
  },
  {
   "cell_type": "code",
   "execution_count": 28,
   "id": "3b504c89",
   "metadata": {},
   "outputs": [
    {
     "data": {
      "text/plain": [
       "array(['Mumbai', 'Ghaziabad', 'Hyderabad', 'Faridabad', 'New delhi',\n",
       "       'Bangalore', 'Katni', 'South delhi', 'Darjiling', 'Central delhi',\n",
       "       'East singhbhum', 'South west delhi', 'Lucknow', 'Gurgaon',\n",
       "       'Thane', 'Abohar', 'Jalandhar', 'Nellore', 'Ludhiana',\n",
       "       'East delhi', 'Vellore', 'Tiruvallur', 'Mahesana', 'Kolkata',\n",
       "       'Aurangabad', 'Cuttack', 'Kanchipuram', 'Patna',\n",
       "       'Gautam buddha nagar', 'Chennai', 'North delhi', 'Pune',\n",
       "       'Ahmedabad', 'Jaipur', 'bhagalpur', 'Raigarh(mh)', 'Khorda',\n",
       "       'Nizamabad', 'Bhubaneswar', 'Surat', 'Vadodara', 'Gulbarga',\n",
       "       'East midnapore', 'Sonbhadra', 'DEHRADUN', 'chandrapur', 'Nagpur',\n",
       "       'Dadra & nagar haveli', 'West delhi', 'Kolhapur', 'pune',\n",
       "       'Udham singh nagar', 'North west delhi', 'North 24 parganas',\n",
       "       'dombivli', 'Guntur', 'Udaipur', 'Chandigarh', 'Nagpuragpur',\n",
       "       'Indore', 'Meerut', 'Tiruvannamalai', 'Jodhpur', 'Bhopal', 'Udupi',\n",
       "       'Bellary', 'Gandhi nagar', 'Ranchi', 'Kamrup', 'Etah', 'Rajkot',\n",
       "       'Goalpara', 'BANGALORE', 'Gurdaspur', 'Warangal', 'Kanpur nagar',\n",
       "       'chennai ', 'Lagos', 'Navi Mumbai', 'K.v.rangareddy', 'Panchkula',\n",
       "       'Howrah', 'Jabalpur', 'Mysore', 'South 24 parganas', 'Coimbatore',\n",
       "       'Ajmer', 'Jammu', 'Bhavnagar', 'Karim nagar', 'visakhapatnam',\n",
       "       'Jhansi', 'Thrissur', 'Kurukshetra', 'mumbai', 'Rewa',\n",
       "       'Gachibowli', 'Dewas', 'Visakhapatnam', 'South goa', 'Krishna',\n",
       "       'Srinagar', 'Parbhani', 'Wardha', 'Sonipat', 'silvassa', 'Mathura',\n",
       "       'chennai', 'Shimla', 'hyderabad', 'Bulandshahr', 'HYDERABAD',\n",
       "       'thane', 'Durg', 'Hyderabad ', 'Dwarka', 'Greater Noida',\n",
       "       'Ambala City', 'Panipat', 'Ambala', 'anakapalle', 'Mira-Bhayander',\n",
       "       'North goaPa', 'Mangalore', 'Kozhikode', 'Ahmed nagar', 'Dehradun',\n",
       "       'Chandauli', 'Bankura', 'Shahjahanpur', 'Adilabad', 'Bengaluru',\n",
       "       'Rohtak', 'Kollam', 'Sundergarh', 'Haridwar', 'Bhiwandi',\n",
       "       'New Delhi', 'Hisar', 'Sirsa', 'Alappuzha', 'Dakshina kannada',\n",
       "       'Tiruchirappalli', 'Agartala', 'Chittoor', 'Srikakulam', 'Belgaum',\n",
       "       'Sambalpur', 'Anand', 'Jorhat', 'Aligarh', 'Solapur', 'Thane W',\n",
       "       'Bhubaneshwar', 'KOLKATA', 'Thiruvananthapuram', 'Bardhaman',\n",
       "       'North Delhi', 'Neemuch', 'West tripura', 'Bathinda', 'Rupnagar',\n",
       "       'Agra', 'Sikar', 'Bokaro', 'Theni', 'Sangli', 'Kota', 'Solan',\n",
       "       'Tirunelveli', 'Allahabad', 'Firozpur', 'Barabanki', 'banglore',\n",
       "       'Jamnagar', 'Amalapuram', 'Delhi', 'Amritsa', '`bangalore',\n",
       "       'new Delhi', 'Chittorgarh', 'kalyan', 'Varanasi', 'bangalore',\n",
       "       'kolkata', 'Nashik', 'ujjain', 'Nalanda', 'Prakasam', 'Ganganagar',\n",
       "       'Bharuch', 'Zirakpur', 'pondicherry', 'Chicago', 'Medak',\n",
       "       'gorakhpur', 'Mohali', 'Patiala', 'Dharwad', 'Anuppur', 'Raigarh',\n",
       "       'Sibsagar', 'Jamshedpur', 'Ratnagiri', 'Amritsar', 'Valsad',\n",
       "       'Moradabad', 'Ernakulam', 'INDORE', 'porbandar', 'Hooghly',\n",
       "       'Dubai', 'Goregaon', 'Amravati', 'bbsr', 'Raipur', 'Unnao',\n",
       "       'KARAD', 'Gandhinagar', 'navi mumbai', 'Jaisalmer', 'Hoshiarpur',\n",
       "       'Bagalkot', 'Dhanbad', 'Guna', 'Kanpur', 'virar', 'Bidar',\n",
       "       'Puducherry', 'calicut', 'Bijapur (kar)', 'nagpur', 'Yavatmal',\n",
       "       'Adoni', 'Jalpaiguri', 'guwahati', 'East godavari', 'Kurnool',\n",
       "       'Patan', 'Ludhianal', 'gautam budha nagar', 'Ujjain', 'Ankleshvar',\n",
       "       'North goa', 'Satna', 'Sindhudurg', 'Dharmsala', 'lucknow',\n",
       "       'Tumkur', 'East khasi hills', 'Navsari', 'Dibrugarhib', 'Bikaner',\n",
       "       'Bhandara', 'MANIPAL', 'Junagadh', 'Washim', 'Sagar', 'WARDHA',\n",
       "       'Puri', 'East delhI', 'Ahmedabadah', 'ahemedabad', 'PUNE',\n",
       "       'Guwahati', 'Ratlam', 'Latur', 'Alwar', 'Mohalli', 'Dindigul',\n",
       "       'phagwara', 'Bilaspur (cgh)', 'Dibrugarh', 'delhi', 'Karaikal',\n",
       "       'Gangavathi', 'Chickmagalur', 'medchal', 'Madhubani', 'bareilly',\n",
       "       'Gwalior', 'Vizianagaram', 'bijapur', 'vijayawada', 'jhansi',\n",
       "       'Yavatmalat', 'secunderabad', 'Hubli', 'Salem', 'Kalyan',\n",
       "       'Mahabub nagar', 'vizag', 'Greater noida', 'Satara', 'Koppal',\n",
       "       'Cachar', 'BHUBANESHWAR', 'warangal', 'JAIPUR', 'GUWAHATI',\n",
       "       'Tenali', 'Khammam', 'Kottayam', 'Diu', 'Noida', 'West godavari',\n",
       "       'East siang', 'Sriganganagar', 'West midnapore', 'Kangra',\n",
       "       'Guruvayur', 'Faizabad', 'Saharanpur', 'Punee', 'Sangrur',\n",
       "       'rampuraphul', 'GADARPUR', 'Bangalore North', 'Chakan',\n",
       "       'Porbandar', 'Manipal', 'Delhi/ncr', 'Virudhunagar',\n",
       "       'Muzaffarnagar', 'Bhiwani', 'Seoni', 'Chitradurga', 'noida',\n",
       "       'Gandhidham', 'RohtakRohtak', 'Muzaffarpur', 'begusarai', 'Dhar',\n",
       "       'Sonepat', 'Murshidabad', 'Bhilwara', 'East sikkim', 'Gorakhpur',\n",
       "       'Siliguri', 'Khandwa', 'bhubsneswar', 'MUMBAI', 'Jalgaon',\n",
       "       'utnoor (M)', 'Lohardaga', 'Palakkad', 'Eluru',\n",
       "       'Bokaro steel city', 'Pondicherry', 'Mira Road', 'Champaign',\n",
       "       'Cuddalore', 'Kachchh', 'Kanpur dehat', 'Edappally',\n",
       "       'Uttara kannada', 'ROORKEE', 'Nainital', 'Jhalawar', 'belgaum',\n",
       "       'Hazaribag', 'Mirzapur', 'Kaalol', 'South delhI', 'Dumka', 'Angul',\n",
       "       'ranchi', 'GHAZIABAD', 'Nadiad', 'Cooch behar', 'Dhuri', 'Dhule',\n",
       "       'Krishnagiri', 'Mysore.', 'Bikane', 'Bareilly', 'Navi mumbai',\n",
       "       'Fatehgarh sahib', 'Pathanamthitta', 'south delhi', 'Raigarh (MH)',\n",
       "       'Jharsuguda', 'Kharagpur', 'PunePune', 'Shivpuri', 'Daman',\n",
       "       'Gautam Buddha Nagar', 'West delhihi', 'North dinajpur',\n",
       "       'new york', 'Pilibhit', 'Moga', 'Udham singh nagarpur',\n",
       "       'Chandigarhcha', 'Dungarpur', 'Bangalore rural', 'Dehradunadun',\n",
       "       'Gabdhidham', 'Vadodara,', 'khanna', 'Puruliya', 'Malda',\n",
       "       'coimbatore', 'jaipur', 'Punene', 'Jamshedpur ', 'mira road east',\n",
       "       'Jalna', 'Gaziabad', 'Karnal', 'Jalor', 'Kallakurichi',\n",
       "       'Ankleshwar', 'Barmer', 'Vijayawada', 'Jhajjar', 'Gaya',\n",
       "       'Kasargod', 'Tuticorin', 'Darbhanga', 'offenbach am mian',\n",
       "       'Hanumangarh', 'Kolkatta', 'manipal', 'Erode', 'Vapi',\n",
       "       'Kishanganj', 'Kalahandi', 'North goaGoa', 'Karur', 'Barnala',\n",
       "       'Kolar', 'patna', 'Sheohar', 'Janjgir-champa', 'Panjim', 'Dhubri',\n",
       "       'Hamirpur(hp)', 'DELHI', 'solan', 'Nawanshahr', 'new delhi',\n",
       "       'Akola', 'raipur', 'Rudrapur', 'gurgaon', 'Rajpipla',\n",
       "       'East champaran', 'Begusarai', 'Wayanad', 'Rourkela', 'Papum pare',\n",
       "       'Kanyakumari', 'bharatpur', 'Chandrapur', 'Gunturur',\n",
       "       'Ras Al Khaimah', 'parel mumbai', 'Rajahmundry East godavari',\n",
       "       'Ambala Cantt', 'Thanjavur', 'NAVI MUMBAI', 'Puneune', 'Vizag',\n",
       "       'Dahod', 'Ahmednagar', 'Kheda', 'Barwani', 'Sonitpur', 'Burhanpur',\n",
       "       'Kanchipuram District', 'Sabarkantha', 'PUne', 'Rajsamand',\n",
       "       'Tezpur', 'Cochin', 'Batala', 'khaitan', 'ludhiana', 'Tirupur',\n",
       "       'Coimbatore ', 'MumbaiMumbai', 'Sri Vijay nagar', 'Mahendragarh',\n",
       "       'Airoli', 'West singhbhum', 'agra', 'Davangere', 'Jagatsinghapur',\n",
       "       'gandhidham', 'Anandand', 'Dimapur', 'Saran', 'Bhagalpur',\n",
       "       'Raipurpurw', 'Ganjam', 'Madurai', 'BENGALURU', 'Delhi, Gurgaon',\n",
       "       'Gandhinager', 'kharar', 'jind', 'Hathras', 'Dhampur', 'Nanded',\n",
       "       'New  Delhi', 'ANGUL', 'latur', 'Gautam Buddha nagar', 'Bilaspur',\n",
       "       'gauhati', 'Hoshangabad', 'Balangir', 'Kheri', 'Gadag', 'Banswara',\n",
       "       'Jhujhunu', 'h', 'Ananthapur', 'vishakapatnam', 'Samastipur',\n",
       "       'jammu', 'FirozpurAbohar', 'NEW DELHI', 'Hassan', 'Villupuram',\n",
       "       'Sawai madhopur', 'Sivaganga', 'KADAPA', 'Mandya', 'Etawah',\n",
       "       'Sarita Vihar', 'Aizawl', 'bharuch', '24 pgs north', 'Cuddapah',\n",
       "       'Kapurthala', 'BAGALKOT', 'Mumbaiai', 'sangareddy', 'Kannur',\n",
       "       'Neemrana', 'bhubaneshwar', 'Seraikela-kharsawan', 'Thiruvalla',\n",
       "       'Phagwara', 'South Delhi', 'NAGPUR', 'Datia', 'Gandevi', 'Deoria',\n",
       "       'kottayam', 'South west delhI', 'Punepune', 'Pauri garhwal',\n",
       "       'bilaspur', 'Farrukhabad', 'ghaziabad', 'Calangute', 'Goa',\n",
       "       'Ramgarh', 'Tiruppur', 'Varanasinasi', 'Bangalore Rural', 'Ballia',\n",
       "       'Kendujhar', ' ', 'Tikamgarh', 'Ahmedabadbad', 'hubli', 'agartala',\n",
       "       'Kaithal', 'South andaman', 'Jhalandar', 'Balaghat', 'Dwarka Mor',\n",
       "       'Telangana', 'Bahadurgarh', 'MANGALORE', 'DURG', 'Yamuna nagar',\n",
       "       'THANE', 'Gautam buddha nagar, noida', 'HARYANA', 'West delhI',\n",
       "       'Rajbandh', 'Virar (East)', 'bhubaneswar', 'hosur', 'Dombivli',\n",
       "       'Shimoga', 'rewari', 'valsad', 'Roorkee', 'Malakkara', 'Nandurbar',\n",
       "       'dehradun', 'Golaghat', 'indore', 'panjim', 'Chhindwara',\n",
       "       'karimnagar', 'navi Mumbai', 'nizamabad', 'Mangaluru',\n",
       "       'Vadodarado', 'Bastar', 'bhopal', 'jalandhar', 'Mapusa',\n",
       "       'Anantapur', 'perth', 'thane - west', 'Raichur', 'Durgapur',\n",
       "       'Rayagada', 'Tinsukia', 'Nagercoil', 'Kakinada', 'Dilshuknagar',\n",
       "       'Nadia', 'Imphal', 'MumbaI', 'Noida ', 'Beawar', 'Sirohi',\n",
       "       'Lonavla', 'LucknowLucknow', 'Muktsar', 'Dombivali', 'DHENKANAL',\n",
       "       'thumkur', 'Mumbai ', 'Trivandrum', 'surat', 'karwar', 'Alibaug',\n",
       "       'Bhubneshwar', 'goa', 'Birbhum', 'Narsinghpur', 'Grater noida',\n",
       "       'Kondapur ,hyderabad', 'NaviMumbai', 'Egmore Chennai', 'Bijnor',\n",
       "       'Ulhasnagar', 'South west Delhi', 'ARCOT', 'Panch Mahals',\n",
       "       'Panch mahals', 'London', 'Junagadhjunagadh', 'Haridwar, roorkee',\n",
       "       'Gachibowli, Hyderabad', 'CHENNAI', 'Jagdalpur', 'Nairobi',\n",
       "       'Kidwai Nagar', 'Sholapur', 'North and middle andaman',\n",
       "       'Gautam buddha nagara', 'Rajko', 'Purnia', 'rohini', 'NOIDA',\n",
       "       'hyderbad', 'Sitapur', 'Panvel', 'Banka', 'Khordabhubaneswar',\n",
       "       'West Delhi', 'Azamgarh', 'Bhojpur', 'Valparai', 'varanasi',\n",
       "       'margao', 'Jind', 'Keshod', 'hunagund', 'UDUPI, MANIPAL', 'NASHIK',\n",
       "       'Gandhidham-Kutch', 'zirakpur', 'edapally', 'Raipurpur',\n",
       "       'Ichalkaranji', 'Chenani', 'East singhbum', 'hyd', 'Dhenkanal',\n",
       "       'Gir Somnath', 'Thane West', 'Karimganj', 'Katihar', 'bengaluru',\n",
       "       'bangalore ', 'Koderma', 'mathura', 'Dombivli Mumbai', 'VERNA',\n",
       "       'Mumbaiu', 'panchkula', 'bansthali', 'ulhasnagar',\n",
       "       'New Ashok Nagar', 'Sonapur', 'URAVAKONDA', 'sonipat', 'Dholpur',\n",
       "       'Bassi pathana', 'Pravara nagar', 'Gurugram', 'Diglipur',\n",
       "       'Hawaii National Park', 'Miraroad', 'Gondia', 'Dahanu', 'Tirupati',\n",
       "       'Kadapa', 'MATHURA', 'Mandi adampur', 'Nalgonda', 'ahmedabad',\n",
       "       'Nasik', 'Maninagar', 'Bharatpur', 'Rewari', 'Vasai', 'Nagaon',\n",
       "       'Mandi', 'Saharsa', 'lonavala', 'Rampur', 'anjuna', 'PORVORIM',\n",
       "       'ERNAKULAM', 'Silchar', 'Raiganj', 'Surendranagar', 'gandhinagar',\n",
       "       'samblpur', 'Bhilai', 'Jabalpuralpur', 'Gopalganj', 'Betul',\n",
       "       'Banaskantha', 'Nagapattinam', 'Candolim', 'HOWRAH', 'Shillong',\n",
       "       'anand', 'Adipur Kutch', 'Nilgiris', 'kalka', 'Duliajan',\n",
       "       'Banglore', 'ChennaiChennai', 'Gurgaona', 'BEHROR', 'shillong',\n",
       "       'Peterborough', 'pasighat', 'CHANDIGARH', 'DUBAI', 'Moradabadd',\n",
       "       'Vidisha', 'himatnagar', 'Surendra nagar', 'Samana', 'Bongaigaon',\n",
       "       'Mandi gobindgarh', 'Ghazipur', 'HisarHisar', 'Ambernath',\n",
       "       'Sahibganj', 'morbi', 'Jaunpur', 'East khasi hill', 'Queenstown',\n",
       "       'West Tripura', 'SILIGURI', 'morningside', 'Anand ', 'VAPI',\n",
       "       'East Singhbhum', 'kondapur', 'Surguja', 'kodaikanal', 'kochi',\n",
       "       'Secunderabad', 'ChandrapuR', 'Amritsarsar', 'Kochi', 'daman',\n",
       "       'Amreli', 'Surathkal', 'Kanchipuramur', 'Ghansoli', 'Karad',\n",
       "       'Manamai, Tirukazhukundram Taluk', 'BHATKAL', 'Shajapur',\n",
       "       'Baleswar', 'gurgoan', 'Dakshina Kannada', 'Tonk', 'Phillaur',\n",
       "       'tntyg8nu', 'South goa C?URCHOREM', 'BareillyBareilly',\n",
       "       'Callcatta', 'Udgir', 'Central Delhi', 'South West Delhi',\n",
       "       'GURGAON', 'khandwa', 'Asansol', 'panvel', 'navsari', 'Rabale',\n",
       "       'RAnchi', 'Haldwani', 'Andheri west  ,Mumbai', 'Churu', 'Nitte',\n",
       "       'Tumakuru', 'Chennai(kancheepuram district)', 'Dahodod',\n",
       "       'ahemdabad', 'Hosur', 'Una', 'K.V.Rangareddy', 'SECUNDERABAD',\n",
       "       'ooty', 'CUTTACK', 'Chennai, shollinganallur', 'Sholinganallur',\n",
       "       'Namakkal', 'Ahmedabadh', 'Rajgarh', 'Ahmadabad', 'Chikkaballapur',\n",
       "       'RAJKOT', 'Sanjan', 'Buldhana', 'Andheri(E), Mumbai', 'Manglore',\n",
       "       'Haryana', 'udupi', 'yamuna nagar', 'Dharmapuri', 'Pratapgarh',\n",
       "       'siddipet', 'Nangloi', 'dinhata', 'Rohtas', 'Rajnandgaon',\n",
       "       'mehsana', 'Irvine', 'LUCKNOW', 'berhampur', 'VaranasiVaranasi',\n",
       "       'saswad', 'Verna', 'greater noida', 'Chhatarpur', 'Harrison',\n",
       "       'Perambalur', 'Calcutta', 'East Sikkim', 'Vaishali', 'palakkad',\n",
       "       'ajmer', 'rajapalayam', 'Wes', 'Lower Parel west, Mumbai',\n",
       "       'Dombivali East', 'Manjeri', 'Canacona', 'North West Delhi',\n",
       "       'Jajapur', 'jodhpur', 'South goaVasco-Da-Gama', 'Kodagu',\n",
       "       'Fatehabad', 'Gacchibowli', 'Ankleshwer', 'FARRUKHABAD', 'Ongole',\n",
       "       'Gurgaon, Haryana', 'Cacha', 'Zuarinagar, Goa', 'Udhampur',\n",
       "       'bhavnagar', 'Nerul', 'Warangala', 'Modinagar', 'tirupur',\n",
       "       'Koraput', 'Ambala cantt', 'Balasore', 'kanpur',\n",
       "       'North 24 pargana', 'SATARA', 'West delhii', 'UDAIPUR', 'erode',\n",
       "       'Malappuram', 'Ahmdabad', 'rk puram', 'North Goa', 'KANPUR',\n",
       "       'DOMBIVALI', 'Kharghar', 'Berhampur', 'Nallasopara', 'vadodara',\n",
       "       'Vasco', 'JAMSHEDPUR', 'Lonavala', 'Sidhi', 'Pakur',\n",
       "       'Raigarh (navi mumbai)', 'TRIPUNITHURA', 'Jaipurur', 'Mahasamund',\n",
       "       'Bangalorea', 'vellore', 'Jeddah', 'tumakuru', 'Kalol',\n",
       "       'Bilaspur (cgh)Bilaspur', 'KALPAKKAM', 'BELGAUM', 'Bargarh',\n",
       "       'Sindhanoor', 'Than', 'CHANDIGARGH', 'Madiwala, Bangalore',\n",
       "       'forest hills', 'Gurgaong', 'Ahmednagar ', 'madhya pradesh',\n",
       "       'BHUBANESWAR', 'Medak District', 'Karimnagar', 'West nimar',\n",
       "       'Dhamtari', 'nerul', 'Rahata', 'rewa', 'Patialaa', 'lunawada',\n",
       "       'tezpur', 'Boisar', 'Calcutta, West Bengal.INDIA', 'kuala lumpur',\n",
       "       'Dehradun ', 'East delhiDelhi', 'Jetpur', 'Margao',\n",
       "       'Mumbai [mulundwest]', 'surendranagar', 'Shirdi', 'Trichy',\n",
       "       'Bhayander', 'Koperkhairne', 'Guwhati', 'Manora', 'Lucknownow',\n",
       "       'East Delhi', 'Bengaluru ', 'Sehore', 'kurukshetra', 'GUNTAKAL',\n",
       "       'SURAT', 'Ragiad', 'Hamirpur', 'Phaltan', 'aurangabad', 'KAMRUP',\n",
       "       'kalyani', 'Yamunanagar', 'Newdelhi', 'GAYA', 'MADIPAKKAM', 'S',\n",
       "       'ROURKELA', 'Vadodar', 'Kokrajhar', 'Sultanpur', 'Malkapur'],\n",
       "      dtype=object)"
      ]
     },
     "execution_count": 28,
     "metadata": {},
     "output_type": "execute_result"
    }
   ],
   "source": [
    "df.city.unique()"
   ]
  },
  {
   "cell_type": "markdown",
   "id": "c7db69f7",
   "metadata": {},
   "source": [
    "after taking look at the city column we can see that we have some city name in upper and lower case both so we are changing case of each city to lower case."
   ]
  },
  {
   "cell_type": "code",
   "execution_count": 29,
   "id": "abad25d7",
   "metadata": {},
   "outputs": [],
   "source": [
    "df['city'] = df['city'].str.lower() "
   ]
  },
  {
   "cell_type": "markdown",
   "id": "747b8ced",
   "metadata": {},
   "source": [
    "Delhi and Mumbai cities have multiple instances like south , east , west etc. So replacing them with city name"
   ]
  },
  {
   "cell_type": "code",
   "execution_count": 30,
   "id": "68fec520",
   "metadata": {},
   "outputs": [],
   "source": [
    "df.loc[df['city'].str.contains(\"mumbai\"),'city'] = 'mumbai'\n",
    "df.loc[df['city'].str.contains(\"delhi\"),'city'] = 'delhi'\n",
    "df.loc[df['city'].str.contains(\"west bengal\"),'city'] = 'kolkata'\n",
    "df.loc[df['city'].str.contains(\"calcutta\"),'city'] = 'kolkata'\n",
    "df.loc[df['city'].str.contains(\"callcatta\"),'city'] = 'kolkata'\n",
    "df.loc[df['city'].str.contains(\"kolk\"),'city'] = 'kolkata'\n",
    "df.loc[df['city'].str.contains(\"varan\"),'city'] = 'varanasi'\n",
    "df.loc[df['city'].str.contains(\"ahmeda\"),'city'] = 'ahmedabad'\n",
    "df.loc[df['city'].str.contains(\"thiruvananthapuram\"),'city'] = 'thiruvanthapuram'\n",
    "df.loc[df['city'].str.contains(\"chennai\"),'city'] = 'chennai'\n",
    "df.loc[df['city'].str.contains(\"bilaspur\"),'city'] = 'bilaspur'\n",
    "df.loc[df['city'].str.contains(\"lucknow\"),'city'] = 'lucknow'\n",
    "df.loc[df['city'].str.contains(\"than\"),'city'] = 'thane'\n",
    "df.loc[df['city'].str.contains(\"hyd\"),'city'] = 'hyderabad'\n",
    "df.loc[df['city'].str.contains(\"rajko\"),'city'] = 'rajkot'\n",
    "df.loc[df['city'].str.contains(\"chenani\"),'city'] = 'chennai'\n",
    "df.loc[df['city'].str.contains(\"goa\"),'city'] = 'goa'\n",
    "df.loc[df['city'].str.contains(\"nagpur\"),'city'] = 'nagpur'\n",
    "df.loc[df['city'].str.contains(\"bhubaneswar\"),'city'] = 'bhubaneswar'\n"
   ]
  },
  {
   "cell_type": "markdown",
   "id": "d2a8fd8f",
   "metadata": {},
   "source": [
    "Removing special characters from strings"
   ]
  },
  {
   "cell_type": "code",
   "execution_count": 31,
   "id": "83677ff6",
   "metadata": {},
   "outputs": [],
   "source": [
    "df['city'] = df['city'].astype(str).str.extract(r'([A-Za-z]+(?: [A-Za-z]+)*)')"
   ]
  },
  {
   "cell_type": "markdown",
   "id": "c09f1210",
   "metadata": {},
   "source": [
    "Single letters in city columns does not makes sense so replacing them with 'others'"
   ]
  },
  {
   "cell_type": "code",
   "execution_count": 32,
   "id": "c4674ba5",
   "metadata": {},
   "outputs": [],
   "source": [
    "df.loc[df['city'].str.len()==1, 'city'] = 'others'"
   ]
  },
  {
   "cell_type": "code",
   "execution_count": 33,
   "id": "720b1ca1",
   "metadata": {},
   "outputs": [],
   "source": [
    "df['city'] = df['city'].fillna('others')"
   ]
  },
  {
   "cell_type": "markdown",
   "id": "e3c8cc36",
   "metadata": {},
   "source": [
    "New city count"
   ]
  },
  {
   "cell_type": "code",
   "execution_count": 34,
   "id": "f08d9bfb",
   "metadata": {},
   "outputs": [
    {
     "data": {
      "text/plain": [
       "701"
      ]
     },
     "execution_count": 34,
     "metadata": {},
     "output_type": "execute_result"
    }
   ],
   "source": [
    "df['city'].nunique()"
   ]
  },
  {
   "cell_type": "code",
   "execution_count": 35,
   "id": "eb333180",
   "metadata": {},
   "outputs": [
    {
     "data": {
      "text/plain": [
       "array(['mumbai', 'ghaziabad', 'hyderabad', 'faridabad', 'delhi',\n",
       "       'bangalore', 'katni', 'darjiling', 'east singhbhum', 'lucknow',\n",
       "       'gurgaon', 'thane', 'abohar', 'jalandhar', 'nellore', 'ludhiana',\n",
       "       'vellore', 'tiruvallur', 'mahesana', 'kolkata', 'aurangabad',\n",
       "       'cuttack', 'kanchipuram', 'patna', 'gautam buddha nagar',\n",
       "       'chennai', 'pune', 'ahmedabad', 'jaipur', 'bhagalpur', 'raigarh',\n",
       "       'khorda', 'nizamabad', 'bhubaneswar', 'surat', 'vadodara',\n",
       "       'gulbarga', 'east midnapore', 'sonbhadra', 'dehradun',\n",
       "       'chandrapur', 'nagpur', 'dadra', 'kolhapur', 'udham singh nagar',\n",
       "       'north', 'dombivli', 'guntur', 'udaipur', 'chandigarh', 'indore',\n",
       "       'meerut', 'tiruvannamalai', 'jodhpur', 'bhopal', 'udupi',\n",
       "       'bellary', 'gandhi nagar', 'ranchi', 'kamrup', 'etah', 'rajkot',\n",
       "       'goa', 'gurdaspur', 'warangal', 'kanpur nagar', 'lagos', 'others',\n",
       "       'panchkula', 'howrah', 'jabalpur', 'mysore', 'south', 'coimbatore',\n",
       "       'ajmer', 'jammu', 'bhavnagar', 'karim nagar', 'visakhapatnam',\n",
       "       'jhansi', 'thrissur', 'kurukshetra', 'rewa', 'gachibowli', 'dewas',\n",
       "       'krishna', 'srinagar', 'parbhani', 'wardha', 'sonipat', 'silvassa',\n",
       "       'mathura', 'shimla', 'bulandshahr', 'durg', 'dwarka',\n",
       "       'greater noida', 'ambala city', 'panipat', 'ambala', 'anakapalle',\n",
       "       'mira', 'mangalore', 'kozhikode', 'ahmed nagar', 'chandauli',\n",
       "       'bankura', 'shahjahanpur', 'adilabad', 'bengaluru', 'rohtak',\n",
       "       'kollam', 'sundergarh', 'haridwar', 'bhiwandi', 'hisar', 'sirsa',\n",
       "       'alappuzha', 'dakshina kannada', 'tiruchirappalli', 'agartala',\n",
       "       'chittoor', 'srikakulam', 'belgaum', 'sambalpur', 'anand',\n",
       "       'jorhat', 'aligarh', 'solapur', 'bhubaneshwar', 'thiruvanthapuram',\n",
       "       'bardhaman', 'neemuch', 'west tripura', 'bathinda', 'rupnagar',\n",
       "       'agra', 'sikar', 'bokaro', 'theni', 'sangli', 'kota', 'solan',\n",
       "       'tirunelveli', 'allahabad', 'firozpur', 'barabanki', 'banglore',\n",
       "       'jamnagar', 'amalapuram', 'amritsa', 'chittorgarh', 'kalyan',\n",
       "       'varanasi', 'nashik', 'ujjain', 'nalanda', 'prakasam',\n",
       "       'ganganagar', 'bharuch', 'zirakpur', 'pondicherry', 'chicago',\n",
       "       'medak', 'gorakhpur', 'mohali', 'patiala', 'dharwad', 'anuppur',\n",
       "       'sibsagar', 'jamshedpur', 'ratnagiri', 'amritsar', 'valsad',\n",
       "       'moradabad', 'ernakulam', 'porbandar', 'hooghly', 'dubai',\n",
       "       'goregaon', 'amravati', 'bbsr', 'raipur', 'unnao', 'karad',\n",
       "       'gandhinagar', 'jaisalmer', 'hoshiarpur', 'bagalkot', 'dhanbad',\n",
       "       'guna', 'kanpur', 'virar', 'bidar', 'puducherry', 'calicut',\n",
       "       'bijapur', 'yavatmal', 'adoni', 'jalpaiguri', 'guwahati',\n",
       "       'east godavari', 'kurnool', 'patan', 'ludhianal',\n",
       "       'gautam budha nagar', 'ankleshvar', 'satna', 'sindhudurg',\n",
       "       'dharmsala', 'tumkur', 'east khasi hills', 'navsari',\n",
       "       'dibrugarhib', 'bikaner', 'bhandara', 'manipal', 'junagadh',\n",
       "       'washim', 'sagar', 'puri', 'ahemedabad', 'ratlam', 'latur',\n",
       "       'alwar', 'mohalli', 'dindigul', 'phagwara', 'bilaspur',\n",
       "       'dibrugarh', 'karaikal', 'gangavathi', 'chickmagalur', 'medchal',\n",
       "       'madhubani', 'bareilly', 'gwalior', 'vizianagaram', 'vijayawada',\n",
       "       'yavatmalat', 'secunderabad', 'hubli', 'salem', 'mahabub nagar',\n",
       "       'vizag', 'satara', 'koppal', 'cachar', 'tenali', 'khammam',\n",
       "       'kottayam', 'diu', 'noida', 'west godavari', 'east siang',\n",
       "       'sriganganagar', 'west midnapore', 'kangra', 'guruvayur',\n",
       "       'faizabad', 'saharanpur', 'punee', 'sangrur', 'rampuraphul',\n",
       "       'gadarpur', 'bangalore north', 'chakan', 'virudhunagar',\n",
       "       'muzaffarnagar', 'bhiwani', 'seoni', 'chitradurga', 'gandhidham',\n",
       "       'rohtakrohtak', 'muzaffarpur', 'begusarai', 'dhar', 'sonepat',\n",
       "       'murshidabad', 'bhilwara', 'east sikkim', 'siliguri', 'khandwa',\n",
       "       'bhubsneswar', 'jalgaon', 'utnoor', 'lohardaga', 'palakkad',\n",
       "       'eluru', 'bokaro steel city', 'mira road', 'champaign',\n",
       "       'cuddalore', 'kachchh', 'kanpur dehat', 'edappally',\n",
       "       'uttara kannada', 'roorkee', 'nainital', 'jhalawar', 'hazaribag',\n",
       "       'mirzapur', 'kaalol', 'dumka', 'angul', 'nadiad', 'cooch behar',\n",
       "       'dhuri', 'dhule', 'krishnagiri', 'bikane', 'fatehgarh sahib',\n",
       "       'jharsuguda', 'kharagpur', 'punepune', 'shivpuri', 'daman',\n",
       "       'north dinajpur', 'new york', 'pilibhit', 'moga',\n",
       "       'udham singh nagarpur', 'chandigarhcha', 'dungarpur',\n",
       "       'bangalore rural', 'dehradunadun', 'gabdhidham', 'khanna',\n",
       "       'puruliya', 'malda', 'punene', 'mira road east', 'jalna',\n",
       "       'gaziabad', 'karnal', 'jalor', 'kallakurichi', 'ankleshwar',\n",
       "       'barmer', 'jhajjar', 'gaya', 'kasargod', 'tuticorin', 'darbhanga',\n",
       "       'offenbach am mian', 'hanumangarh', 'erode', 'vapi', 'kishanganj',\n",
       "       'kalahandi', 'karur', 'barnala', 'kolar', 'sheohar', 'janjgir',\n",
       "       'panjim', 'dhubri', 'hamirpur', 'nawanshahr', 'akola', 'rudrapur',\n",
       "       'rajpipla', 'east champaran', 'wayanad', 'rourkela', 'papum pare',\n",
       "       'kanyakumari', 'bharatpur', 'gunturur', 'ras al khaimah',\n",
       "       'rajahmundry east godavari', 'ambala cantt', 'puneune', 'dahod',\n",
       "       'ahmednagar', 'kheda', 'barwani', 'sonitpur', 'burhanpur',\n",
       "       'kanchipuram district', 'sabarkantha', 'rajsamand', 'tezpur',\n",
       "       'cochin', 'batala', 'khaitan', 'tirupur', 'sri vijay nagar',\n",
       "       'mahendragarh', 'airoli', 'west singhbhum', 'davangere',\n",
       "       'jagatsinghapur', 'anandand', 'dimapur', 'saran', 'raipurpurw',\n",
       "       'ganjam', 'madurai', 'gandhinager', 'kharar', 'jind', 'hathras',\n",
       "       'dhampur', 'nanded', 'gauhati', 'hoshangabad', 'balangir', 'kheri',\n",
       "       'gadag', 'banswara', 'jhujhunu', 'ananthapur', 'vishakapatnam',\n",
       "       'samastipur', 'firozpurabohar', 'hassan', 'villupuram',\n",
       "       'sawai madhopur', 'sivaganga', 'kadapa', 'mandya', 'etawah',\n",
       "       'sarita vihar', 'aizawl', 'pgs north', 'cuddapah', 'kapurthala',\n",
       "       'sangareddy', 'kannur', 'neemrana', 'seraikela', 'thiruvalla',\n",
       "       'datia', 'gandevi', 'deoria', 'pauri garhwal', 'farrukhabad',\n",
       "       'calangute', 'ramgarh', 'tiruppur', 'ballia', 'kendujhar',\n",
       "       'tikamgarh', 'kaithal', 'south andaman', 'jhalandar', 'balaghat',\n",
       "       'dwarka mor', 'telangana', 'bahadurgarh', 'yamuna nagar',\n",
       "       'haryana', 'rajbandh', 'hosur', 'shimoga', 'rewari', 'malakkara',\n",
       "       'nandurbar', 'golaghat', 'chhindwara', 'karimnagar', 'mangaluru',\n",
       "       'vadodarado', 'bastar', 'mapusa', 'anantapur', 'perth', 'raichur',\n",
       "       'durgapur', 'rayagada', 'tinsukia', 'nagercoil', 'kakinada',\n",
       "       'dilshuknagar', 'nadia', 'imphal', 'beawar', 'sirohi', 'lonavla',\n",
       "       'muktsar', 'dombivali', 'dhenkanal', 'thumkur', 'trivandrum',\n",
       "       'karwar', 'alibaug', 'bhubneshwar', 'birbhum', 'narsinghpur',\n",
       "       'grater noida', 'bijnor', 'ulhasnagar', 'arcot', 'panch mahals',\n",
       "       'london', 'junagadhjunagadh', 'jagdalpur', 'nairobi',\n",
       "       'kidwai nagar', 'sholapur', 'north and middle andaman',\n",
       "       'gautam buddha nagara', 'purnia', 'rohini', 'sitapur', 'panvel',\n",
       "       'banka', 'azamgarh', 'bhojpur', 'valparai', 'margao', 'keshod',\n",
       "       'hunagund', 'edapally', 'raipurpur', 'ichalkaranji',\n",
       "       'east singhbum', 'gir somnath', 'karimganj', 'katihar', 'koderma',\n",
       "       'verna', 'bansthali', 'new ashok nagar', 'sonapur', 'uravakonda',\n",
       "       'dholpur', 'pravara nagar', 'gurugram', 'diglipur',\n",
       "       'hawaii national park', 'miraroad', 'gondia', 'dahanu', 'tirupati',\n",
       "       'mandi adampur', 'nalgonda', 'nasik', 'maninagar', 'vasai',\n",
       "       'nagaon', 'mandi', 'saharsa', 'lonavala', 'rampur', 'anjuna',\n",
       "       'porvorim', 'silchar', 'raiganj', 'surendranagar', 'samblpur',\n",
       "       'bhilai', 'jabalpuralpur', 'gopalganj', 'betul', 'banaskantha',\n",
       "       'nagapattinam', 'candolim', 'shillong', 'adipur kutch', 'nilgiris',\n",
       "       'kalka', 'duliajan', 'gurgaona', 'behror', 'peterborough',\n",
       "       'pasighat', 'moradabadd', 'vidisha', 'himatnagar',\n",
       "       'surendra nagar', 'samana', 'bongaigaon', 'mandi gobindgarh',\n",
       "       'ghazipur', 'hisarhisar', 'ambernath', 'sahibganj', 'morbi',\n",
       "       'jaunpur', 'east khasi hill', 'queenstown', 'morningside',\n",
       "       'kondapur', 'surguja', 'kodaikanal', 'kochi', 'amritsarsar',\n",
       "       'amreli', 'surathkal', 'kanchipuramur', 'ghansoli', 'manamai',\n",
       "       'bhatkal', 'shajapur', 'baleswar', 'tonk', 'phillaur', 'tntyg',\n",
       "       'bareillybareilly', 'udgir', 'asansol', 'rabale', 'haldwani',\n",
       "       'churu', 'nitte', 'tumakuru', 'dahodod', 'ahemdabad', 'una',\n",
       "       'ooty', 'sholinganallur', 'namakkal', 'rajgarh', 'ahmadabad',\n",
       "       'chikkaballapur', 'sanjan', 'buldhana', 'manglore', 'dharmapuri',\n",
       "       'pratapgarh', 'siddipet', 'nangloi', 'dinhata', 'rohtas',\n",
       "       'rajnandgaon', 'mehsana', 'irvine', 'berhampur', 'saswad',\n",
       "       'chhatarpur', 'harrison', 'perambalur', 'vaishali', 'rajapalayam',\n",
       "       'wes', 'dombivali east', 'manjeri', 'canacona', 'jajapur',\n",
       "       'kodagu', 'fatehabad', 'gacchibowli', 'ankleshwer', 'ongole',\n",
       "       'cacha', 'udhampur', 'nerul', 'warangala', 'modinagar', 'koraput',\n",
       "       'balasore', 'malappuram', 'ahmdabad', 'rk puram', 'kharghar',\n",
       "       'nallasopara', 'vasco', 'sidhi', 'pakur', 'tripunithura',\n",
       "       'jaipurur', 'mahasamund', 'bangalorea', 'jeddah', 'kalol',\n",
       "       'kalpakkam', 'bargarh', 'sindhanoor', 'chandigargh', 'madiwala',\n",
       "       'forest hills', 'gurgaong', 'madhya pradesh', 'medak district',\n",
       "       'west nimar', 'dhamtari', 'rahata', 'patialaa', 'lunawada',\n",
       "       'boisar', 'kuala lumpur', 'jetpur', 'shirdi', 'trichy',\n",
       "       'bhayander', 'koperkhairne', 'guwhati', 'manora', 'sehore',\n",
       "       'guntakal', 'ragiad', 'phaltan', 'kalyani', 'yamunanagar',\n",
       "       'madipakkam', 'vadodar', 'kokrajhar', 'sultanpur', 'malkapur'],\n",
       "      dtype=object)"
      ]
     },
     "execution_count": 35,
     "metadata": {},
     "output_type": "execute_result"
    }
   ],
   "source": [
    "df['city'].unique()"
   ]
  },
  {
   "cell_type": "code",
   "execution_count": 36,
   "id": "41cab954",
   "metadata": {},
   "outputs": [
    {
     "data": {
      "text/plain": [
       "(41726, 20)"
      ]
     },
     "execution_count": 36,
     "metadata": {},
     "output_type": "execute_result"
    }
   ],
   "source": [
    "df.shape"
   ]
  },
  {
   "cell_type": "markdown",
   "id": "fbff26f1",
   "metadata": {},
   "source": [
    "###### State column cleaning"
   ]
  },
  {
   "cell_type": "code",
   "execution_count": 37,
   "id": "8734b166",
   "metadata": {},
   "outputs": [
    {
     "data": {
      "text/plain": [
       "259"
      ]
     },
     "execution_count": 37,
     "metadata": {},
     "output_type": "execute_result"
    }
   ],
   "source": [
    "df['state'].nunique()"
   ]
  },
  {
   "cell_type": "code",
   "execution_count": 38,
   "id": "36ed2b59",
   "metadata": {},
   "outputs": [],
   "source": [
    "df['state'] = df['state'].str.upper()"
   ]
  },
  {
   "cell_type": "code",
   "execution_count": 39,
   "id": "8055fb4c",
   "metadata": {},
   "outputs": [
    {
     "data": {
      "text/plain": [
       "MAHARASHTRA                                12124\n",
       "KARNATAKA                                   4710\n",
       "DELHI                                       4117\n",
       "GUJARAT                                     2548\n",
       "ANDHRA PRADESH                              2469\n",
       "UTTAR PRADESH                               2468\n",
       "WEST BENGAL                                 1870\n",
       "HARYANA                                     1818\n",
       "TAMIL NADU                                  1803\n",
       "RAJASTHAN                                   1210\n",
       "MADHYA PRADESH                              1164\n",
       "ORISSA                                       702\n",
       "PUNJAB                                       634\n",
       "BIHAR                                        396\n",
       "CHHATTISGARH                                 393\n",
       "ASSAM                                        393\n",
       "JHARKHAND                                    369\n",
       "KERALA                                       327\n",
       "UTTARAKHAND                                  313\n",
       "TELANGANA                                    298\n",
       "GOA                                          262\n",
       "CHANDIGARH                                   222\n",
       "JAMMU AND KASHMIR                            106\n",
       "HIMACHAL PRADESH                              72\n",
       "TRIPURA                                       50\n",
       "ODISHA                                        40\n",
       "NEW DELHI                                     40\n",
       "PUDUCHERRY                                    36\n",
       "MAHARASTRA                                    35\n",
       "TAMILNADU                                     28\n",
       "MEGHALAYA                                     28\n",
       "DAMAN AND DIU                                 26\n",
       "TELENGANA                                     25\n",
       "INDIA                                         24\n",
       "MH                                            23\n",
       "KA                                            20\n",
       "ANDAMAN AND NICOBAR ISLANDS                   20\n",
       "UP                                            20\n",
       "DADRA AND NAGAR HAVELI                        19\n",
       "SIKKIM                                        18\n",
       "DUBAI                                         18\n",
       "GUJRAT                                        17\n",
       "DL                                            15\n",
       "UTTRAKHAND                                    11\n",
       "MUMBAI                                        10\n",
       "SDFADFA                                       10\n",
       "WA                                            10\n",
       "MAH?R?SHTRA                                   10\n",
       "KARNATAKA                                      9\n",
       "KARN?TAKA                                      9\n",
       "ARUNACHAL PRADESH                              9\n",
       "---                                            8\n",
       "SOUTH AUSTRALIA                                8\n",
       "MAHARASHTRA                                    8\n",
       "NEWJERSEY                                      8\n",
       "TELANGANA                                      7\n",
       "CHATTISGARH                                    7\n",
       "NEAR SBH BANK                                  6\n",
       "UTTER PRADESH                                  6\n",
       "TN                                             6\n",
       "UTTAR PRADESH                                  6\n",
       "HARY?NA                                        6\n",
       "UTTARPRADESH                                   6\n",
       "ILLINOIS                                       6\n",
       "JEDDAH                                         5\n",
       "MP                                             5\n",
       "MAHARSHTRA                                     5\n",
       "KARNATKA                                       5\n",
       "AN                                             5\n",
       "ORRISA                                         5\n",
       "KENYA                                          4\n",
       "C.G.                                           4\n",
       "MAHRASHTRA                                     4\n",
       "LAGOS                                          4\n",
       "GUJARATI                                       4\n",
       "M.P.                                           4\n",
       "STATE                                          4\n",
       "UTTARANCHAL                                    4\n",
       "NCT-DELHI                                      4\n",
       "OUTSIDE UNITED STATES                          3\n",
       "KARNATAKA > BANGALORE URBAN                    3\n",
       "MAHARASHTRA\\r\\n                                3\n",
       "U P                                            3\n",
       "TAMILNADU                                      3\n",
       "HAWAII                                         3\n",
       "IL                                             3\n",
       "MAHARASHTATRA                                  3\n",
       "SELECT ONE                                     3\n",
       "NEW YORK                                       3\n",
       "PLEASE SELECT...                               3\n",
       "NAVI MUMBAI                                    3\n",
       "HARYANAA                                       3\n",
       "J&K                                            3\n",
       "ONTARIO                                        3\n",
       "LONDON                                         3\n",
       "MAHARASTRA                                     3\n",
       "MAHARSTRA                                      3\n",
       "ANDHRAPRADESH                                  3\n",
       "M                                              3\n",
       "-                                              3\n",
       "MIZORAM                                        3\n",
       "KARNTAKA                                       3\n",
       "DAMAN                                          3\n",
       "MAHARASHTA                                     2\n",
       "KARANATAKA                                     2\n",
       "HYDERABAD\\r\\n                                  2\n",
       "NRAJASTHAN                                     2\n",
       "TYPE A CHOICE BELOW ...                        2\n",
       "MASHAY PRADESH                                 2\n",
       "-SELECT-                                       2\n",
       "TAMIL NACDU                                    2\n",
       "GJ                                             2\n",
       "GUJARAT\\r\\n                                    2\n",
       "PLEASE SELECT REGION, STATE OR PROVINCE        2\n",
       "SHARDASHRAM SCHOOL                             2\n",
       "KARNATAK                                       2\n",
       "ASHIRWAD CHOWK                                 2\n",
       "GUJARAT, INDIA                                 2\n",
       "HR                                             2\n",
       "MAHARAHSHTRA                                   2\n",
       "TAMIL NADUT                                    2\n",
       "TAMIL N?DU                                     2\n",
       "FARWANIYA                                      2\n",
       "HIM?CHAL PRADESH                               2\n",
       "NAGALAND                                       2\n",
       "SELECT STATE                                   2\n",
       "U.P                                            2\n",
       "NONE                                           2\n",
       "JABEL ALI                                      2\n",
       "SELANGOR                                       2\n",
       "AP                                             2\n",
       "UT                                             2\n",
       "MAH                                            2\n",
       "RJ                                             2\n",
       "MANIPUR                                        2\n",
       "PONDICHERRY                                    2\n",
       "ENGLAND                                        2\n",
       "HARAYANA                                       2\n",
       "LUCKNOW                                        2\n",
       "VISHAKAPTNAM                                   1\n",
       "4614192                                        1\n",
       "UTTAR PRADRSH                                  1\n",
       "KARNATAKAKARNATAKA                             1\n",
       "SELECT YOUR STATE OR PROVINCE                  1\n",
       "CHANDIGARGH                                    1\n",
       "TERRITORY NOT LISTED                           1\n",
       "UTTARAKHAND                                    1\n",
       "ODHISA                                         1\n",
       "NEAR SUJATA GARH, BAKRAUR                      1\n",
       "GUJAR?T                                        1\n",
       "CALIFORNIA                                     1\n",
       "ODISSA                                         1\n",
       "PONDICHERY                                     1\n",
       "MAHARASHTRAR                                   1\n",
       "EAST SINGHBHUM                                 1\n",
       "CHHATTISHGARH                                  1\n",
       "4422275314                                     1\n",
       "KARNATAKA INDIA                                1\n",
       "                                               1\n",
       "UTTAR PRADESH PRADESH                          1\n",
       "MARNAMIKATTA CIRCLE                            1\n",
       "CHATTISHGARH                                   1\n",
       "ODISHA                                         1\n",
       "KARMATAKA                                      1\n",
       "MAHARASTHRA                                    1\n",
       "S.R.NAGAR                                      1\n",
       "JABALPUR                                       1\n",
       "TELEGANA                                       1\n",
       "IN                                             1\n",
       "UTTARAKHANDARAKHAND                            1\n",
       "QUEENSLAND                                     1\n",
       "NT8NNN8B                                       1\n",
       "NR- SAKINAKA METRO STATION                     1\n",
       "SINGAPORE                                      1\n",
       "Name: state, dtype: int64"
      ]
     },
     "execution_count": 39,
     "metadata": {},
     "output_type": "execute_result"
    }
   ],
   "source": [
    "df.state.value_counts()"
   ]
  },
  {
   "cell_type": "code",
   "execution_count": 40,
   "id": "6d73d9ad",
   "metadata": {},
   "outputs": [],
   "source": [
    "df['state'] = df['state'].fillna('OTHERS')"
   ]
  },
  {
   "cell_type": "code",
   "execution_count": 41,
   "id": "5d60fed1",
   "metadata": {},
   "outputs": [
    {
     "data": {
      "text/plain": [
       "(41726, 20)"
      ]
     },
     "execution_count": 41,
     "metadata": {},
     "output_type": "execute_result"
    }
   ],
   "source": [
    "df.shape"
   ]
  },
  {
   "cell_type": "code",
   "execution_count": 42,
   "id": "a45c5b62",
   "metadata": {},
   "outputs": [],
   "source": [
    "df.loc[df['state'].str.contains(\"AP\"),'state'] = 'ANDHRA PRADESH'\n",
    "df.loc[df['state'].str.contains(\"ARUNA\"),'state'] = 'ARUNACHAL PRADESH'\n",
    "df.loc[df['state'].str.contains(\"HIM\"),'state'] = 'HIMACHAL PRADESH'\n",
    "df.loc[df['state'].str.contains(\"GJ\"),'state'] = 'GUJRAT'\n",
    "df.loc[df['state'].str.contains(\"GUJ\"),'state'] = 'GUJRAT'\n",
    "df.loc[df['state'].str.contains(\"MH\"),'state'] = 'MAHARASHTRA'\n",
    "df.loc[df['state'].str.contains(\"MAHA\"),'state'] = 'MAHARASHTRA'\n",
    "df.loc[df['state'].str.contains(\"MAH?\"),'state'] = 'MAHARASHTRA'\n",
    "df.loc[df['state'].str.contains(\"MUMBAI\"),'state'] = 'MAHARASHTRA'\n",
    "df.loc[df['state'].str.contains(\"KA\"),'state'] = 'KERELA'\n",
    "df.loc[df['state'].str.contains(\"UP\"),'state'] = 'UTTAR PRADESH'\n",
    "df.loc[df['state'].str.contains(\"UTTE\"),'state'] = 'UTTAR PRADESH'\n",
    "df.loc[df['state'].str.contains(\"UTTAR P\"),'state'] = 'UTTAR PRADESH'\n",
    "df.loc[df['state'].str.contains(\"UTTARP\"),'state'] = 'UTTAR PRADESH'\n",
    "df.loc[df['state'].str.contains(\"U.P\"),'state'] = 'UTTAR PRADESH'\n",
    "df.loc[df['state'].str.contains(\"UK\"),'state'] = 'UTTARAKHAND'\n",
    "df.loc[df['state'].str.contains(\"UTTARA\"),'state'] = 'UTTARAKHAND'\n",
    "df.loc[df['state'].str.contains(\"UTTRAK\"),'state'] = 'UTTARAKHAND'\n",
    "df.loc[df['state'].str.contains(\"RJ\"),'state'] = 'RAJASTHAN'\n",
    "df.loc[df['state'].str.contains(\"RAJ\"),'state'] = 'RAJASTHAN'\n",
    "df.loc[df['state'].str.contains(\"HR\"),'state'] = 'HARYANA'\n",
    "df.loc[df['state'].str.contains(\"HARY\"),'state'] = 'HARYANA'\n",
    "df.loc[df['state'].str.contains(\"YANA\"),'state'] = 'HARYANA'\n",
    "df.loc[df['state'].str.contains(\"DL\"),'state'] = 'DELHI'\n",
    "df.loc[df['state'].str.contains(\"DEL\"),'state'] = 'DELHI'\n",
    "df.loc[df['state'].str.contains(\"TEL\"),'state'] = 'TELENGANA'\n",
    "df.loc[df['state'].str.contains(\"TN\"),'state'] = 'TAMIL NADU'\n",
    "df.loc[df['state'].str.contains(\"TAMIL\"),'state'] = 'TAMIL NADU'\n",
    "df.loc[df['state'].str.contains(\"DL\"),'state'] = 'DELHI'\n",
    "df.loc[df['state'].str.contains(\"DELHI\"),'state'] = 'DELHI'\n",
    "df.loc[df['state'].str.contains(\"OD\"),'state'] = 'ODISHA'\n",
    "df.loc[df['state'].str.contains(\"ORR\"),'state'] = 'ODISHA'\n",
    "df.loc[df['state'].str.contains(\"ORISSA\"),'state'] = 'ODISHA'\n",
    "df.loc[df['state'].str.contains(\"DAMAN\"),'state'] = 'DAMAN AND DIU'\n",
    "df.loc[df['state'].str.contains(\"MP\"),'state'] = 'MADHYA PRADESH'\n",
    "df.loc[df['state'].str.contains(\"M.P.\"),'state'] = 'MADHYA PRADESH'\n",
    "df.loc[df['state'].str.contains(\"CHATT\"),'state'] = 'CHATTISGARH'\n",
    "df.loc[df['state'].str.contains(\"CHHATT\"),'state'] = 'CHATTISGARH'\n",
    "df.loc[df['state'].str.contains(\"C.G.\"),'state'] = 'CHATTISGARH'\n",
    "df.loc[df['state'].str.contains(\"CHANDI\"),'state'] = 'CHANDIGARH'\n",
    "df.loc[df['state'].str.contains(\"PONDICHERRY\"),'state'] = 'PUDUCHERRY'\n",
    "df.loc[df['state'].str.contains(\"PONDICHERY\"),'state'] = 'PUDUCHERRY'\n",
    "df.loc[df['state'].str.contains(\"KARN\"),'state'] = 'KARNATAKA'\n",
    "df.loc[df['state'].str.contains(\"J&K\"),'state'] = 'JAMMU AND KASHMIR'\n",
    "df.loc[df['state'].str.contains(\"S.R.NAGAR\"),'state'] = 'JAMMU AND KASHMIR'\n",
    "df.loc[df['state'].str.contains(\"HYDERABAD\\r\\n\"),'state'] = 'HYDERABAD'\n"
   ]
  },
  {
   "cell_type": "code",
   "execution_count": 43,
   "id": "94a3303b",
   "metadata": {},
   "outputs": [
    {
     "data": {
      "text/plain": [
       "array(['MAHARASHTRA', 'UTTAR PRADESH', 'HARYANA', 'DELHI', 'KERELA',\n",
       "       'WEST BENGAL', 'JHARKHAND', 'PUNJAB', 'TAMIL NADU', 'GUJRAT',\n",
       "       'ODISHA', 'BIHAR', 'RAJASTHAN', 'UTTARAKHAND',\n",
       "       'DADRA AND NAGAR HAVELI', 'CHANDIGARH', 'ASSAM', 'LAGOS',\n",
       "       'TELENGANA', 'KERALA', 'GOA', 'CHATTISGARH', 'TRIPURA',\n",
       "       'MADHYA PRADESH', 'PUDUCHERRY', 'ILLINOIS', 'DUBAI', 'OTHERS',\n",
       "       'MEGHALAYA', 'STATE', 'ARUNACHAL PRADESH', 'INDIA', 'SIKKIM',\n",
       "       'NEAR SBH BANK', 'UT', 'IL', 'SDFADFA', 'SELECT ONE',\n",
       "       'EAST SINGHBHUM', 'OUTSIDE UNITED STATES', '4422275314',\n",
       "       'FARWANIYA', 'NAGALAND', 'M', 'MIZORAM', 'SELECT STATE', 'NONE',\n",
       "       ' ', 'JAMMU AND KASHMIR', 'PLEASE SELECT...', 'WA', 'LUCKNOW',\n",
       "       '---', 'ENGLAND', 'JABALPUR', 'JABEL ALI', 'KENYA',\n",
       "       'TYPE A CHOICE BELOW ...', 'IN', 'HAWAII', 'ONTARIO',\n",
       "       'SOUTH AUSTRALIA', 'QUEENSLAND', 'LONDON', 'HYDERABAD',\n",
       "       'ASHIRWAD CHOWK', 'NT8NNN8B', '-', 'CALIFORNIA', 'NEWJERSEY',\n",
       "       'SELECT YOUR STATE OR PROVINCE', '-SELECT-',\n",
       "       'PLEASE SELECT REGION, STATE OR PROVINCE', 'JEDDAH', 'NEW YORK',\n",
       "       'AN', 'SELANGOR', 'TERRITORY NOT LISTED', '4614192',\n",
       "       'NEAR SUJATA GARH, BAKRAUR'], dtype=object)"
      ]
     },
     "execution_count": 43,
     "metadata": {},
     "output_type": "execute_result"
    }
   ],
   "source": [
    "df.state.unique()"
   ]
  },
  {
   "cell_type": "code",
   "execution_count": 44,
   "id": "a96e5a30",
   "metadata": {},
   "outputs": [],
   "source": [
    "df['state'] = df['state'].astype(str).str.extract(r'([A-Za-z]+(?: [A-Za-z]+)*)')"
   ]
  },
  {
   "cell_type": "code",
   "execution_count": 45,
   "id": "bb4e167c",
   "metadata": {},
   "outputs": [],
   "source": [
    "df['state'] = df['state'].fillna('OTHERS')"
   ]
  },
  {
   "cell_type": "code",
   "execution_count": 46,
   "id": "574190a3",
   "metadata": {},
   "outputs": [],
   "source": [
    "df.loc[df['state'].str.len()==2, 'city'] = 'OTHERS'\n",
    "df.loc[df['state'].str.len()==1, 'city'] = 'OTHERS'"
   ]
  },
  {
   "cell_type": "code",
   "execution_count": 47,
   "id": "66162d92",
   "metadata": {},
   "outputs": [],
   "source": [
    "df.loc[df['state'].str.contains(\"SELECT\"),'state'] = 'OTHERS'\n",
    "df.loc[df['state'].str.contains(\"TYPE\"),'state'] = 'OTHERS'\n",
    "df.loc[df['state'].str.contains(\"NONE\"),'state'] = 'OTHERS'\n",
    "df.loc[df['state'].str.contains(\"STATE\"),'state'] = 'OTHERS'\n",
    "df.loc[df['state'].str.contains(\"TERRITORY NOT LISTED\"),'state'] = 'OTHERS'\n",
    "df.loc[df['state'].str.contains(\"NEAR SUJATA GARH\"),'state'] = 'OTHERS'\n",
    "df.loc[df['state'].str.contains(\"ASHIRWAD CHOWK\"),'state'] = 'OTHERS'\n",
    "df.loc[df['state'].str.contains(\"LUCKNOW\"),'state'] = 'UTTAR PRADESH'\n",
    "df.loc[df['state'].str.contains(\"EAST SINGHBHUM\"),'state'] = 'JHARKHAND'\n",
    "df.loc[df['state'].str.contains(\"HYDERABAD\"),'state'] = 'TELENGANA'\n",
    "df.loc[df['state'].str.contains(\"JABALPUR\"),'state'] = 'MADHYA PRADESH'"
   ]
  },
  {
   "cell_type": "code",
   "execution_count": 48,
   "id": "2723f6c2",
   "metadata": {},
   "outputs": [
    {
     "data": {
      "text/plain": [
       "58"
      ]
     },
     "execution_count": 48,
     "metadata": {},
     "output_type": "execute_result"
    }
   ],
   "source": [
    "df.state.nunique()"
   ]
  },
  {
   "cell_type": "code",
   "execution_count": 49,
   "id": "9c22e90a",
   "metadata": {},
   "outputs": [
    {
     "data": {
      "text/plain": [
       "MAHARASHTRA               13535\n",
       "KERELA                     4872\n",
       "HARYANA                    4309\n",
       "DELHI                      4176\n",
       "GUJRAT                     2576\n",
       "UTTAR PRADESH              2515\n",
       "WEST BENGAL                1870\n",
       "TAMIL NADU                 1846\n",
       "RAJASTHAN                  1214\n",
       "ODISHA                      750\n",
       "PUNJAB                      634\n",
       "CHATTISGARH                 406\n",
       "BIHAR                       396\n",
       "ASSAM                       393\n",
       "JHARKHAND                   370\n",
       "TELENGANA                   333\n",
       "UTTARAKHAND                 330\n",
       "KERALA                      327\n",
       "GOA                         262\n",
       "CHANDIGARH                  223\n",
       "OTHERS                       67\n",
       "TRIPURA                      50\n",
       "PUDUCHERRY                   39\n",
       "MEGHALAYA                    28\n",
       "INDIA                        24\n",
       "DADRA AND NAGAR HAVELI       19\n",
       "SIKKIM                       18\n",
       "DUBAI                        18\n",
       "WA                           10\n",
       "MADHYA PRADESH               10\n",
       "SDFADFA                      10\n",
       "ARUNACHAL PRADESH             9\n",
       "SOUTH AUSTRALIA               8\n",
       "NEWJERSEY                     8\n",
       "NEAR SBH BANK                 6\n",
       "ILLINOIS                      6\n",
       "AN                            5\n",
       "JEDDAH                        5\n",
       "JAMMU AND KASHMIR             4\n",
       "LAGOS                         4\n",
       "KENYA                         4\n",
       "IL                            3\n",
       "NEW YORK                      3\n",
       "M                             3\n",
       "MIZORAM                       3\n",
       "LONDON                        3\n",
       "HAWAII                        3\n",
       "ONTARIO                       3\n",
       "SELANGOR                      2\n",
       "UT                            2\n",
       "JABEL ALI                     2\n",
       "ENGLAND                       2\n",
       "NAGALAND                      2\n",
       "FARWANIYA                     2\n",
       "QUEENSLAND                    1\n",
       "NT                            1\n",
       "CALIFORNIA                    1\n",
       "IN                            1\n",
       "Name: state, dtype: int64"
      ]
     },
     "execution_count": 49,
     "metadata": {},
     "output_type": "execute_result"
    }
   ],
   "source": [
    "df.state.value_counts()"
   ]
  },
  {
   "cell_type": "markdown",
   "id": "8e168031",
   "metadata": {},
   "source": [
    "#### NOW LOOKING AT NULL VALUES AT COLUMNS"
   ]
  },
  {
   "cell_type": "code",
   "execution_count": 50,
   "id": "eca1e75c",
   "metadata": {},
   "outputs": [
    {
     "data": {
      "text/plain": [
       "dummy             0\n",
       "order_id          0\n",
       "parent_id         0\n",
       "user_id           0\n",
       "price             0\n",
       "quantity          0\n",
       "product_id        0\n",
       "size_id           0\n",
       "category_id       0\n",
       "cat_type       1552\n",
       "subtype        1552\n",
       "gender         1552\n",
       "subclass       1552\n",
       "neck           1552\n",
       "sleeve         1552\n",
       "material       1552\n",
       "prod_name         0\n",
       "created_at        0\n",
       "city              0\n",
       "state             0\n",
       "dtype: int64"
      ]
     },
     "execution_count": 50,
     "metadata": {},
     "output_type": "execute_result"
    }
   ],
   "source": [
    "df.isnull().sum()"
   ]
  },
  {
   "cell_type": "code",
   "execution_count": 51,
   "id": "e31e602c",
   "metadata": {},
   "outputs": [],
   "source": [
    "# dropping neck,sleeve,material columns (not important features)\n",
    "df.drop(['neck', 'sleeve','material'], axis=1, inplace=True)"
   ]
  },
  {
   "cell_type": "markdown",
   "id": "e2f90513",
   "metadata": {},
   "source": [
    "###### cat_type , subtype  and,  gender columns can ve imputed using prod_name column\n",
    "\n",
    "In every product name Men/women/No gender/Unisex (gender), Apparel/Accessories we can classify by looking at the product and similarly we can determine weather article is topwear,bottom wear or any other subtype by taking a look at product name."
   ]
  },
  {
   "cell_type": "markdown",
   "id": "0e15eeee",
   "metadata": {},
   "source": [
    "##### cat_type column"
   ]
  },
  {
   "cell_type": "code",
   "execution_count": 52,
   "id": "6454a270",
   "metadata": {},
   "outputs": [],
   "source": [
    "# there are only two products in accessories Mobile covers and gift cards \n",
    "df.loc[df['prod_name'].str.contains(\"Mobile Covers\"),'cat_type'] = 'Accessories' \n",
    "df.loc[df['prod_name'].str.contains(\"Gift Cards\"),'cat_type'] = 'Accessories'\n",
    "df.cat_type.fillna('Apparel',inplace=True)"
   ]
  },
  {
   "cell_type": "code",
   "execution_count": 53,
   "id": "9b8e5778",
   "metadata": {},
   "outputs": [
    {
     "name": "stdout",
     "output_type": "stream",
     "text": [
      "Apparel        35041\n",
      "Accessories     6685\n",
      "Name: cat_type, dtype: int64\n",
      "41726\n"
     ]
    }
   ],
   "source": [
    "print(df.cat_type.value_counts())\n",
    "print(df.cat_type.value_counts().sum())"
   ]
  },
  {
   "cell_type": "markdown",
   "id": "4912ac5e",
   "metadata": {},
   "source": [
    "##### subtype column"
   ]
  },
  {
   "cell_type": "code",
   "execution_count": 54,
   "id": "d807cc6b",
   "metadata": {},
   "outputs": [],
   "source": [
    "df.loc[df['prod_name'].str.contains(\"Shirts\"),'subtype'] = 'Topwear'\n",
    "df.loc[df['prod_name'].str.contains(\"Vest\"),'subtype'] = 'Topwear'\n",
    "df.loc[df['prod_name'].str.contains(\"Hoodies\"),'subtype'] = 'Topwear'\n",
    "df.loc[df['prod_name'].str.contains(\"Tanks\"),'subtype'] = 'Topwear'\n",
    "df.loc[df['prod_name'].str.contains(\"Tank\"),'subtype'] = 'Topwear'\n",
    "df.loc[df['prod_name'].str.contains(\"T-Shirt\"),'subtype'] = 'Topwear'\n",
    "df.loc[df['prod_name'].str.contains(\"Mobile Covers\"),'subtype'] = 'Mobile Covers'\n",
    "df.loc[df['prod_name'].str.contains(\"Leggings\"),'subtype'] = 'Bottomwear'"
   ]
  },
  {
   "cell_type": "code",
   "execution_count": 55,
   "id": "bf1b0a05",
   "metadata": {},
   "outputs": [
    {
     "name": "stdout",
     "output_type": "stream",
     "text": [
      "Topwear          24967\n",
      "Bottomwear       10074\n",
      "Mobile Covers     6670\n",
      "Gift Cards          15\n",
      "Name: subtype, dtype: int64\n",
      "41726\n"
     ]
    }
   ],
   "source": [
    "print(df.subtype.value_counts())\n",
    "print(df.subtype.value_counts().sum())"
   ]
  },
  {
   "cell_type": "markdown",
   "id": "a78affd9",
   "metadata": {},
   "source": [
    "###### Gender column"
   ]
  },
  {
   "cell_type": "code",
   "execution_count": 56,
   "id": "7eb2b299",
   "metadata": {},
   "outputs": [],
   "source": [
    "df.loc[df['prod_name'].str.contains(\"Men\"),'gender'] = 'Men'\n",
    "df.loc[df['prod_name'].str.contains(\"Women\"),'gender'] = 'Women'\n",
    "df.loc[df['prod_name'].str.contains(\"Leggings\"),'gender'] = 'Women'\n",
    "df.loc[df['prod_name'].str.contains(\"Mobile Covers\"),'gender'] = 'Unisex'"
   ]
  },
  {
   "cell_type": "code",
   "execution_count": 57,
   "id": "4876fe9d",
   "metadata": {},
   "outputs": [
    {
     "name": "stdout",
     "output_type": "stream",
     "text": [
      "Men       25460\n",
      "Women      9581\n",
      "Unisex     6685\n",
      "Name: gender, dtype: int64\n",
      "41726\n"
     ]
    }
   ],
   "source": [
    "print(df.gender.value_counts())\n",
    "print(df.gender.value_counts().sum())"
   ]
  },
  {
   "cell_type": "markdown",
   "id": "cc236e8c",
   "metadata": {},
   "source": [
    "###### subclass column"
   ]
  },
  {
   "cell_type": "code",
   "execution_count": 58,
   "id": "5bbe46c6",
   "metadata": {},
   "outputs": [],
   "source": [
    "df.loc[df['prod_name'].str.contains(\"Pyjamas\"),'subclass'] = 'Pyjamas'\n",
    "df.loc[df['prod_name'].str.contains(\"Leggings\"),'subclass'] = 'Pyjamas'\n",
    "df.loc[df['prod_name'].str.contains(\"Boxers\"),'subclass'] = 'Boxers'\n",
    "df.loc[df['prod_name'].str.contains(\"Zipper\"),'subclass'] = 'Zipper'\n",
    "df.loc[df['prod_name'].str.contains(\"Hoodies\"),'subclass'] = 'Sweatshirts'\n",
    "df.loc[df['prod_name'].str.contains(\"Vests\"),'subclass'] = 'Vests'\n",
    "df.loc[df['prod_name'].str.contains(\"Shorts\"),'subclass'] = 'Shorts'\n",
    "df.loc[df['prod_name'].str.contains(\"Crop\"),'subclass'] = 'Crop'\n",
    "df.loc[df['prod_name'].str.contains(\"Shirts\"),'subclass'] = 'Shirts'\n",
    "df.loc[df['prod_name'].str.contains(\"T-Shirt\"),'subclass'] = 'T-Shirts'\n",
    "df.loc[df['prod_name'].str.contains(\"Tank\"),'subclass'] = 'Tank Tops'\n",
    "df.loc[df['prod_name'].str.contains(\"Bomber\"),'subclass'] = 'Bomber'\n",
    "df.loc[df['prod_name'].str.contains(\"Gift Cards\"),'subclass'] = 'Gift Cards'\n",
    "df.loc[df['prod_name'].str.contains(\"Joggers\"),'subclass'] = 'Joggers'\n",
    "df.loc[df['prod_name'].str.contains(\"Mobile Covers\"),'subclass'] = 'Mobile Covers'"
   ]
  },
  {
   "cell_type": "code",
   "execution_count": 59,
   "id": "a9eb5f58",
   "metadata": {},
   "outputs": [
    {
     "name": "stdout",
     "output_type": "stream",
     "text": [
      "T-Shirts         19587\n",
      "Mobile Covers     6670\n",
      "Pyjamas           4083\n",
      "Joggers           2569\n",
      "Vests             2418\n",
      "Sweatshirts       2209\n",
      "Boxers            2140\n",
      "Shorts            1282\n",
      "Shirts             411\n",
      "Tank Tops          333\n",
      "Gift Cards          15\n",
      "Bomber               9\n",
      "Name: subclass, dtype: int64\n",
      "41726\n"
     ]
    }
   ],
   "source": [
    "print(df.subclass.value_counts())\n",
    "print(df.subclass.value_counts().sum())"
   ]
  },
  {
   "cell_type": "code",
   "execution_count": 60,
   "id": "49b4eb2a",
   "metadata": {},
   "outputs": [
    {
     "data": {
      "text/plain": [
       "dummy          0\n",
       "order_id       0\n",
       "parent_id      0\n",
       "user_id        0\n",
       "price          0\n",
       "quantity       0\n",
       "product_id     0\n",
       "size_id        0\n",
       "category_id    0\n",
       "cat_type       0\n",
       "subtype        0\n",
       "gender         0\n",
       "subclass       0\n",
       "prod_name      0\n",
       "created_at     0\n",
       "city           0\n",
       "state          0\n",
       "dtype: int64"
      ]
     },
     "execution_count": 60,
     "metadata": {},
     "output_type": "execute_result"
    }
   ],
   "source": [
    "df.isnull().sum()"
   ]
  },
  {
   "cell_type": "code",
   "execution_count": 61,
   "id": "9178db40",
   "metadata": {},
   "outputs": [
    {
     "data": {
      "text/plain": [
       "(41726, 17)"
      ]
     },
     "execution_count": 61,
     "metadata": {},
     "output_type": "execute_result"
    }
   ],
   "source": [
    "df.shape"
   ]
  },
  {
   "cell_type": "markdown",
   "id": "7895a10d",
   "metadata": {},
   "source": [
    "### Exporting Clean Dataset"
   ]
  },
  {
   "cell_type": "code",
   "execution_count": 62,
   "id": "119b2a15",
   "metadata": {},
   "outputs": [],
   "source": [
    "df.to_csv('D:\\data science analytics project\\Crazy Monkey\\crazy_monkey_clean.csv')"
   ]
  }
 ],
 "metadata": {
  "kernelspec": {
   "display_name": "Python 3 (ipykernel)",
   "language": "python",
   "name": "python3"
  },
  "language_info": {
   "codemirror_mode": {
    "name": "ipython",
    "version": 3
   },
   "file_extension": ".py",
   "mimetype": "text/x-python",
   "name": "python",
   "nbconvert_exporter": "python",
   "pygments_lexer": "ipython3",
   "version": "3.9.7"
  }
 },
 "nbformat": 4,
 "nbformat_minor": 5
}
